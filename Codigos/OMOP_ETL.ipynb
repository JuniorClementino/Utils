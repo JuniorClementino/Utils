{
 "cells": [
  {
   "cell_type": "code",
   "execution_count": 2,
   "metadata": {},
   "outputs": [
    {
     "name": "stdout",
     "output_type": "stream",
     "text": [
      "Teste\n"
     ]
    }
   ],
   "source": [
    "print(\"Teste\")"
   ]
  },
  {
   "cell_type": "code",
   "execution_count": 3,
   "metadata": {},
   "outputs": [],
   "source": [
    "import pandas as pd"
   ]
  },
  {
   "cell_type": "code",
   "execution_count": 4,
   "metadata": {
    "scrolled": true
   },
   "outputs": [
    {
     "name": "stderr",
     "output_type": "stream",
     "text": [
      "/home/junior/venvs/OMOP_ETL/lib/python3.7/site-packages/IPython/core/interactiveshell.py:3058: DtypeWarning: Columns (5,6) have mixed types. Specify dtype option on import or set low_memory=False.\n",
      "  interactivity=interactivity, compiler=compiler, result=result)\n"
     ]
    }
   ],
   "source": [
    "data= pd.read_csv('/home/junior/New Incor/CONCEPT.csv')"
   ]
  },
  {
   "cell_type": "code",
   "execution_count": 5,
   "metadata": {},
   "outputs": [
    {
     "data": {
      "text/html": [
       "<div>\n",
       "<style scoped>\n",
       "    .dataframe tbody tr th:only-of-type {\n",
       "        vertical-align: middle;\n",
       "    }\n",
       "\n",
       "    .dataframe tbody tr th {\n",
       "        vertical-align: top;\n",
       "    }\n",
       "\n",
       "    .dataframe thead th {\n",
       "        text-align: right;\n",
       "    }\n",
       "</style>\n",
       "<table border=\"1\" class=\"dataframe\">\n",
       "  <thead>\n",
       "    <tr style=\"text-align: right;\">\n",
       "      <th></th>\n",
       "      <th>concept_id</th>\n",
       "      <th>concept_name</th>\n",
       "      <th>domain_id</th>\n",
       "      <th>vocabulary_id</th>\n",
       "      <th>concept_class_id</th>\n",
       "      <th>standard_concept</th>\n",
       "      <th>concept_code</th>\n",
       "      <th>valid_start_date</th>\n",
       "      <th>valid_end_date</th>\n",
       "      <th>invalid_reason</th>\n",
       "    </tr>\n",
       "  </thead>\n",
       "  <tbody>\n",
       "    <tr>\n",
       "      <td>0</td>\n",
       "      <td>4185577</td>\n",
       "      <td>Flunisolide</td>\n",
       "      <td>Drug</td>\n",
       "      <td>SNOMED</td>\n",
       "      <td>Pharma/Biol Product</td>\n",
       "      <td>NaN</td>\n",
       "      <td>43879000</td>\n",
       "      <td>1970-01-01</td>\n",
       "      <td>2099-12-31</td>\n",
       "      <td>NaN</td>\n",
       "    </tr>\n",
       "    <tr>\n",
       "      <td>1</td>\n",
       "      <td>4156826</td>\n",
       "      <td>Methadone 10mg/ml oral solution sugar free</td>\n",
       "      <td>Drug</td>\n",
       "      <td>SNOMED</td>\n",
       "      <td>Pharma/Biol Product</td>\n",
       "      <td>NaN</td>\n",
       "      <td>322571005</td>\n",
       "      <td>1970-01-01</td>\n",
       "      <td>2099-12-31</td>\n",
       "      <td>NaN</td>\n",
       "    </tr>\n",
       "    <tr>\n",
       "      <td>2</td>\n",
       "      <td>4156835</td>\n",
       "      <td>Tramadol 50mg modified-release capsules</td>\n",
       "      <td>Drug</td>\n",
       "      <td>SNOMED</td>\n",
       "      <td>Pharma/Biol Product</td>\n",
       "      <td>NaN</td>\n",
       "      <td>322636000</td>\n",
       "      <td>1970-01-01</td>\n",
       "      <td>2099-12-31</td>\n",
       "      <td>NaN</td>\n",
       "    </tr>\n",
       "    <tr>\n",
       "      <td>3</td>\n",
       "      <td>4156845</td>\n",
       "      <td>Morphine sulfate 200mg/sachet granules for sus...</td>\n",
       "      <td>Drug</td>\n",
       "      <td>SNOMED</td>\n",
       "      <td>Pharma/Biol Product</td>\n",
       "      <td>NaN</td>\n",
       "      <td>322719000</td>\n",
       "      <td>1970-01-01</td>\n",
       "      <td>2099-12-31</td>\n",
       "      <td>NaN</td>\n",
       "    </tr>\n",
       "    <tr>\n",
       "      <td>4</td>\n",
       "      <td>4184618</td>\n",
       "      <td>Trifluperidol</td>\n",
       "      <td>Drug</td>\n",
       "      <td>SNOMED</td>\n",
       "      <td>Pharma/Biol Product</td>\n",
       "      <td>NaN</td>\n",
       "      <td>5478006</td>\n",
       "      <td>1970-01-01</td>\n",
       "      <td>2099-12-31</td>\n",
       "      <td>NaN</td>\n",
       "    </tr>\n",
       "  </tbody>\n",
       "</table>\n",
       "</div>"
      ],
      "text/plain": [
       "   concept_id                                       concept_name domain_id  \\\n",
       "0     4185577                                        Flunisolide      Drug   \n",
       "1     4156826         Methadone 10mg/ml oral solution sugar free      Drug   \n",
       "2     4156835            Tramadol 50mg modified-release capsules      Drug   \n",
       "3     4156845  Morphine sulfate 200mg/sachet granules for sus...      Drug   \n",
       "4     4184618                                      Trifluperidol      Drug   \n",
       "\n",
       "  vocabulary_id     concept_class_id standard_concept concept_code  \\\n",
       "0        SNOMED  Pharma/Biol Product              NaN     43879000   \n",
       "1        SNOMED  Pharma/Biol Product              NaN    322571005   \n",
       "2        SNOMED  Pharma/Biol Product              NaN    322636000   \n",
       "3        SNOMED  Pharma/Biol Product              NaN    322719000   \n",
       "4        SNOMED  Pharma/Biol Product              NaN      5478006   \n",
       "\n",
       "  valid_start_date valid_end_date invalid_reason  \n",
       "0       1970-01-01     2099-12-31            NaN  \n",
       "1       1970-01-01     2099-12-31            NaN  \n",
       "2       1970-01-01     2099-12-31            NaN  \n",
       "3       1970-01-01     2099-12-31            NaN  \n",
       "4       1970-01-01     2099-12-31            NaN  "
      ]
     },
     "execution_count": 5,
     "metadata": {},
     "output_type": "execute_result"
    }
   ],
   "source": [
    "data.head()"
   ]
  },
  {
   "cell_type": "code",
   "execution_count": 6,
   "metadata": {},
   "outputs": [
    {
     "data": {
      "text/plain": [
       "concept_id           int64\n",
       "concept_name        object\n",
       "domain_id           object\n",
       "vocabulary_id       object\n",
       "concept_class_id    object\n",
       "standard_concept    object\n",
       "concept_code        object\n",
       "valid_start_date    object\n",
       "valid_end_date      object\n",
       "invalid_reason      object\n",
       "dtype: object"
      ]
     },
     "execution_count": 6,
     "metadata": {},
     "output_type": "execute_result"
    }
   ],
   "source": [
    "data.dtypes"
   ]
  },
  {
   "cell_type": "code",
   "execution_count": 14,
   "metadata": {},
   "outputs": [],
   "source": [
    "data1= data"
   ]
  },
  {
   "cell_type": "code",
   "execution_count": 15,
   "metadata": {},
   "outputs": [],
   "source": [
    "data2 =  type(data['domain_id'])"
   ]
  },
  {
   "cell_type": "code",
   "execution_count": 17,
   "metadata": {},
   "outputs": [
    {
     "ename": "TypeError",
     "evalue": "head() missing 1 required positional argument: 'self'",
     "output_type": "error",
     "traceback": [
      "\u001b[0;31m---------------------------------------------------------------------------\u001b[0m",
      "\u001b[0;31mTypeError\u001b[0m                                 Traceback (most recent call last)",
      "\u001b[0;32m<ipython-input-17-77bbe7b50a36>\u001b[0m in \u001b[0;36m<module>\u001b[0;34m\u001b[0m\n\u001b[0;32m----> 1\u001b[0;31m \u001b[0mdata2\u001b[0m\u001b[0;34m.\u001b[0m\u001b[0mhead\u001b[0m\u001b[0;34m(\u001b[0m\u001b[0;34m)\u001b[0m\u001b[0;34m\u001b[0m\u001b[0;34m\u001b[0m\u001b[0m\n\u001b[0m",
      "\u001b[0;31mTypeError\u001b[0m: head() missing 1 required positional argument: 'self'"
     ]
    }
   ],
   "source": [
    "data2.head()"
   ]
  },
  {
   "cell_type": "code",
   "execution_count": 11,
   "metadata": {},
   "outputs": [],
   "source": [
    "data3=data1.domain_id.to_string()"
   ]
  },
  {
   "cell_type": "code",
   "execution_count": 12,
   "metadata": {},
   "outputs": [
    {
     "ename": "AttributeError",
     "evalue": "'str' object has no attribute 'dtypes'",
     "output_type": "error",
     "traceback": [
      "\u001b[0;31m---------------------------------------------------------------------------\u001b[0m",
      "\u001b[0;31mAttributeError\u001b[0m                            Traceback (most recent call last)",
      "\u001b[0;32m<ipython-input-12-c3759e16b4c4>\u001b[0m in \u001b[0;36m<module>\u001b[0;34m\u001b[0m\n\u001b[0;32m----> 1\u001b[0;31m \u001b[0mdata3\u001b[0m\u001b[0;34m.\u001b[0m\u001b[0mdtypes\u001b[0m\u001b[0;34m\u001b[0m\u001b[0;34m\u001b[0m\u001b[0m\n\u001b[0m",
      "\u001b[0;31mAttributeError\u001b[0m: 'str' object has no attribute 'dtypes'"
     ]
    }
   ],
   "source": [
    "data3.dtypes"
   ]
  },
  {
   "cell_type": "code",
   "execution_count": null,
   "metadata": {},
   "outputs": [],
   "source": []
  },
  {
   "cell_type": "code",
   "execution_count": null,
   "metadata": {},
   "outputs": [],
   "source": []
  }
 ],
 "metadata": {
  "kernelspec": {
   "display_name": "OMOP_ETL",
   "language": "python",
   "name": "omop_etl"
  },
  "language_info": {
   "codemirror_mode": {
    "name": "ipython",
    "version": 3
   },
   "file_extension": ".py",
   "mimetype": "text/x-python",
   "name": "python",
   "nbconvert_exporter": "python",
   "pygments_lexer": "ipython3",
   "version": "3.7.3"
  }
 },
 "nbformat": 4,
 "nbformat_minor": 2
}
