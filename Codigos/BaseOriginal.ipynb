{
 "cells": [
  {
   "cell_type": "code",
   "execution_count": 1,
   "metadata": {},
   "outputs": [],
   "source": [
    "import pandas as pd\n"
   ]
  },
  {
   "cell_type": "code",
   "execution_count": 2,
   "metadata": {},
   "outputs": [
    {
     "name": "stderr",
     "output_type": "stream",
     "text": [
      "/home/junior/venvs/OMOP_ETL/lib/python3.7/site-packages/IPython/core/interactiveshell.py:3058: DtypeWarning: Columns (5,6,9) have mixed types. Specify dtype option on import or set low_memory=False.\n",
      "  interactivity=interactivity, compiler=compiler, result=result)\n"
     ]
    }
   ],
   "source": [
    "data= pd.read_csv('/home/junior/CONCEPT2.csv')\n"
   ]
  },
  {
   "cell_type": "code",
   "execution_count": 3,
   "metadata": {},
   "outputs": [
    {
     "data": {
      "text/html": [
       "<div>\n",
       "<style scoped>\n",
       "    .dataframe tbody tr th:only-of-type {\n",
       "        vertical-align: middle;\n",
       "    }\n",
       "\n",
       "    .dataframe tbody tr th {\n",
       "        vertical-align: top;\n",
       "    }\n",
       "\n",
       "    .dataframe thead th {\n",
       "        text-align: right;\n",
       "    }\n",
       "</style>\n",
       "<table border=\"1\" class=\"dataframe\">\n",
       "  <thead>\n",
       "    <tr style=\"text-align: right;\">\n",
       "      <th></th>\n",
       "      <th>concept_id</th>\n",
       "      <th>concept_name</th>\n",
       "      <th>domain_id</th>\n",
       "      <th>vocabulary_id</th>\n",
       "      <th>concept_class_id</th>\n",
       "      <th>standard_concept</th>\n",
       "      <th>concept_code</th>\n",
       "      <th>valid_start_date</th>\n",
       "      <th>valid_end_date</th>\n",
       "      <th>invalid_reason</th>\n",
       "    </tr>\n",
       "  </thead>\n",
       "  <tbody>\n",
       "    <tr>\n",
       "      <td>0</td>\n",
       "      <td>0</td>\n",
       "      <td>No matching concept</td>\n",
       "      <td>Metadata</td>\n",
       "      <td>None</td>\n",
       "      <td>Undefined</td>\n",
       "      <td>NaN</td>\n",
       "      <td>No matching concept</td>\n",
       "      <td>1970-01-01</td>\n",
       "      <td>2099-12-31</td>\n",
       "      <td>NaN</td>\n",
       "    </tr>\n",
       "    <tr>\n",
       "      <td>1</td>\n",
       "      <td>1</td>\n",
       "      <td>Domain</td>\n",
       "      <td>Metadata</td>\n",
       "      <td>Domain</td>\n",
       "      <td>Domain</td>\n",
       "      <td>NaN</td>\n",
       "      <td>OMOP generated</td>\n",
       "      <td>1970-01-01</td>\n",
       "      <td>2099-12-31</td>\n",
       "      <td>NaN</td>\n",
       "    </tr>\n",
       "    <tr>\n",
       "      <td>2</td>\n",
       "      <td>2</td>\n",
       "      <td>Gender</td>\n",
       "      <td>Metadata</td>\n",
       "      <td>Domain</td>\n",
       "      <td>Domain</td>\n",
       "      <td>NaN</td>\n",
       "      <td>OMOP generated</td>\n",
       "      <td>1970-01-01</td>\n",
       "      <td>2099-12-31</td>\n",
       "      <td>NaN</td>\n",
       "    </tr>\n",
       "    <tr>\n",
       "      <td>3</td>\n",
       "      <td>3</td>\n",
       "      <td>Race</td>\n",
       "      <td>Metadata</td>\n",
       "      <td>Domain</td>\n",
       "      <td>Domain</td>\n",
       "      <td>NaN</td>\n",
       "      <td>OMOP generated</td>\n",
       "      <td>1970-01-01</td>\n",
       "      <td>2099-12-31</td>\n",
       "      <td>NaN</td>\n",
       "    </tr>\n",
       "    <tr>\n",
       "      <td>4</td>\n",
       "      <td>4</td>\n",
       "      <td>Ethnicity</td>\n",
       "      <td>Metadata</td>\n",
       "      <td>Domain</td>\n",
       "      <td>Domain</td>\n",
       "      <td>NaN</td>\n",
       "      <td>OMOP generated</td>\n",
       "      <td>1970-01-01</td>\n",
       "      <td>2099-12-31</td>\n",
       "      <td>NaN</td>\n",
       "    </tr>\n",
       "  </tbody>\n",
       "</table>\n",
       "</div>"
      ],
      "text/plain": [
       "   concept_id         concept_name domain_id vocabulary_id concept_class_id  \\\n",
       "0           0  No matching concept  Metadata          None        Undefined   \n",
       "1           1               Domain  Metadata        Domain           Domain   \n",
       "2           2               Gender  Metadata        Domain           Domain   \n",
       "3           3                 Race  Metadata        Domain           Domain   \n",
       "4           4            Ethnicity  Metadata        Domain           Domain   \n",
       "\n",
       "  standard_concept         concept_code valid_start_date valid_end_date  \\\n",
       "0              NaN  No matching concept       1970-01-01     2099-12-31   \n",
       "1              NaN       OMOP generated       1970-01-01     2099-12-31   \n",
       "2              NaN       OMOP generated       1970-01-01     2099-12-31   \n",
       "3              NaN       OMOP generated       1970-01-01     2099-12-31   \n",
       "4              NaN       OMOP generated       1970-01-01     2099-12-31   \n",
       "\n",
       "  invalid_reason  \n",
       "0            NaN  \n",
       "1            NaN  \n",
       "2            NaN  \n",
       "3            NaN  \n",
       "4            NaN  "
      ]
     },
     "execution_count": 3,
     "metadata": {},
     "output_type": "execute_result"
    }
   ],
   "source": [
    "data.head()"
   ]
  },
  {
   "cell_type": "code",
   "execution_count": 6,
   "metadata": {},
   "outputs": [
    {
     "data": {
      "text/plain": [
       "concept_id           int64\n",
       "concept_name        object\n",
       "domain_id           object\n",
       "vocabulary_id       object\n",
       "concept_class_id    object\n",
       "standard_concept    object\n",
       "concept_code        object\n",
       "valid_start_date    object\n",
       "valid_end_date      object\n",
       "invalid_reason      object\n",
       "dtype: object"
      ]
     },
     "execution_count": 6,
     "metadata": {},
     "output_type": "execute_result"
    }
   ],
   "source": [
    "data.dtypes"
   ]
  },
  {
   "cell_type": "code",
   "execution_count": null,
   "metadata": {},
   "outputs": [],
   "source": []
  }
 ],
 "metadata": {
  "kernelspec": {
   "display_name": "OMOP_ETL",
   "language": "python",
   "name": "omop_etl"
  },
  "language_info": {
   "codemirror_mode": {
    "name": "ipython",
    "version": 3
   },
   "file_extension": ".py",
   "mimetype": "text/x-python",
   "name": "python",
   "nbconvert_exporter": "python",
   "pygments_lexer": "ipython3",
   "version": "3.7.3"
  }
 },
 "nbformat": 4,
 "nbformat_minor": 2
}
