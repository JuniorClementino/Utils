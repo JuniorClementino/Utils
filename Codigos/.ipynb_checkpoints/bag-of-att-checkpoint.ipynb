{
 "cells": [
  {
   "cell_type": "code",
   "execution_count": 1,
   "metadata": {},
   "outputs": [
    {
     "name": "stderr",
     "output_type": "stream",
     "text": [
      "[nltk_data] Downloading package punkt to /home/junior/nltk_data...\n",
      "[nltk_data]   Package punkt is already up-to-date!\n",
      "[nltk_data] Downloading package stopwords to /home/junior/nltk_data...\n",
      "[nltk_data]   Package stopwords is already up-to-date!\n",
      "[nltk_data] Downloading package rslp to /home/junior/nltk_data...\n",
      "[nltk_data]   Package rslp is already up-to-date!\n"
     ]
    },
    {
     "name": "stdout",
     "output_type": "stream",
     "text": [
      "Collecting plotly.express\n",
      "  Using cached https://files.pythonhosted.org/packages/d4/d6/8a2906f51e073a4be80cab35cfa10e7a34853e60f3ed5304ac470852a08d/plotly_express-0.4.1-py2.py3-none-any.whl\n",
      "Requirement already satisfied: patsy>=0.5 in /home/junior/venvs/OMOP_ETL/lib/python3.7/site-packages (from plotly.express) (0.5.1)\n",
      "Requirement already satisfied: statsmodels>=0.9.0 in /home/junior/venvs/OMOP_ETL/lib/python3.7/site-packages (from plotly.express) (0.10.2)\n",
      "Requirement already satisfied: scipy>=0.18 in /home/junior/venvs/OMOP_ETL/lib/python3.7/site-packages (from plotly.express) (1.3.3)\n",
      "Requirement already satisfied: numpy>=1.11 in /home/junior/venvs/OMOP_ETL/lib/python3.7/site-packages (from plotly.express) (1.17.0)\n",
      "Requirement already satisfied: plotly>=4.1.0 in /home/junior/venvs/OMOP_ETL/lib/python3.7/site-packages (from plotly.express) (4.3.0)\n",
      "Requirement already satisfied: pandas>=0.20.0 in /home/junior/venvs/OMOP_ETL/lib/python3.7/site-packages (from plotly.express) (0.25.1)\n",
      "Requirement already satisfied: six in /home/junior/venvs/OMOP_ETL/lib/python3.7/site-packages (from patsy>=0.5->plotly.express) (1.12.0)\n",
      "Requirement already satisfied: retrying>=1.3.3 in /home/junior/venvs/OMOP_ETL/lib/python3.7/site-packages (from plotly>=4.1.0->plotly.express) (1.3.3)\n",
      "Requirement already satisfied: python-dateutil>=2.6.1 in /home/junior/venvs/OMOP_ETL/lib/python3.7/site-packages (from pandas>=0.20.0->plotly.express) (2.8.0)\n",
      "Requirement already satisfied: pytz>=2017.2 in /home/junior/venvs/OMOP_ETL/lib/python3.7/site-packages (from pandas>=0.20.0->plotly.express) (2019.2)\n",
      "Installing collected packages: plotly.express\n",
      "Successfully installed plotly.express\n",
      "\u001b[33mWARNING: You are using pip version 19.2.2, however version 19.3.1 is available.\n",
      "You should consider upgrading via the 'pip install --upgrade pip' command.\u001b[0m\n"
     ]
    }
   ],
   "source": [
    "# Importando bibliotecas\n",
    "import pandas as pd\n",
    "import string\n",
    "import nltk\n",
    "nltk.download('punkt')\n",
    "nltk.download('stopwords')\n",
    "nltk.download('rslp')\n",
    "from nltk.tokenize import word_tokenize\n",
    "from nltk.stem.porter import *\n",
    "from sklearn.feature_extraction.text import CountVectorizer\n",
    "from sklearn.feature_extraction.text import TfidfVectorizer\n",
    "from scipy.spatial.distance import cosine\n",
    "import numpy as np\n",
    "import networkx as nx\n",
    "!pip install plotly.express\n",
    "from plotly import graph_objs as go"
   ]
  },
  {
   "cell_type": "code",
   "execution_count": 2,
   "metadata": {},
   "outputs": [],
   "source": [
    "#Reading file\n",
    "df = pd.read_csv('bag_of_att.csv') "
   ]
  },
  {
   "cell_type": "code",
   "execution_count": 3,
   "metadata": {},
   "outputs": [
    {
     "data": {
      "text/html": [
       "<div>\n",
       "<style scoped>\n",
       "    .dataframe tbody tr th:only-of-type {\n",
       "        vertical-align: middle;\n",
       "    }\n",
       "\n",
       "    .dataframe tbody tr th {\n",
       "        vertical-align: top;\n",
       "    }\n",
       "\n",
       "    .dataframe thead th {\n",
       "        text-align: right;\n",
       "    }\n",
       "</style>\n",
       "<table border=\"1\" class=\"dataframe\">\n",
       "  <thead>\n",
       "    <tr style=\"text-align: right;\">\n",
       "      <th></th>\n",
       "      <th>Nome</th>\n",
       "      <th>Sexo</th>\n",
       "      <th>Febre</th>\n",
       "      <th>Dor</th>\n",
       "      <th>Procedimento</th>\n",
       "    </tr>\n",
       "  </thead>\n",
       "  <tbody>\n",
       "    <tr>\n",
       "      <td>0</td>\n",
       "      <td>Jose_Maria</td>\n",
       "      <td>Masculino</td>\n",
       "      <td>Forte</td>\n",
       "      <td>Sim</td>\n",
       "      <td>Realizado</td>\n",
       "    </tr>\n",
       "    <tr>\n",
       "      <td>1</td>\n",
       "      <td>Eduarda</td>\n",
       "      <td>Feminina</td>\n",
       "      <td>Fraca</td>\n",
       "      <td>Não</td>\n",
       "      <td>Nao realizado</td>\n",
       "    </tr>\n",
       "    <tr>\n",
       "      <td>2</td>\n",
       "      <td>Felipe</td>\n",
       "      <td>Não_definido</td>\n",
       "      <td>Sem_sintomas</td>\n",
       "      <td>Não</td>\n",
       "      <td>Indefinido</td>\n",
       "    </tr>\n",
       "    <tr>\n",
       "      <td>3</td>\n",
       "      <td>Tiao</td>\n",
       "      <td>Masculino</td>\n",
       "      <td>Sem_sintomas</td>\n",
       "      <td>Talvez</td>\n",
       "      <td>Realizado</td>\n",
       "    </tr>\n",
       "    <tr>\n",
       "      <td>4</td>\n",
       "      <td>Josefa</td>\n",
       "      <td>Feminina</td>\n",
       "      <td>Forte</td>\n",
       "      <td>Sim</td>\n",
       "      <td>Nao realizado</td>\n",
       "    </tr>\n",
       "  </tbody>\n",
       "</table>\n",
       "</div>"
      ],
      "text/plain": [
       "        Nome           Sexo         Febre     Dor   Procedimento\n",
       "0  Jose_Maria     Masculino         Forte     Sim      Realizado\n",
       "1     Eduarda     Feminina          Fraca     Não  Nao realizado\n",
       "2      Felipe  Não_definido  Sem_sintomas     Não     Indefinido\n",
       "3        Tiao     Masculino  Sem_sintomas  Talvez      Realizado\n",
       "4      Josefa     Feminina          Forte     Sim  Nao realizado"
      ]
     },
     "execution_count": 3,
     "metadata": {},
     "output_type": "execute_result"
    }
   ],
   "source": [
    "df"
   ]
  },
  {
   "cell_type": "code",
   "execution_count": 4,
   "metadata": {},
   "outputs": [
    {
     "data": {
      "text/html": [
       "<div>\n",
       "<style scoped>\n",
       "    .dataframe tbody tr th:only-of-type {\n",
       "        vertical-align: middle;\n",
       "    }\n",
       "\n",
       "    .dataframe tbody tr th {\n",
       "        vertical-align: top;\n",
       "    }\n",
       "\n",
       "    .dataframe thead th {\n",
       "        text-align: right;\n",
       "    }\n",
       "</style>\n",
       "<table border=\"1\" class=\"dataframe\">\n",
       "  <thead>\n",
       "    <tr style=\"text-align: right;\">\n",
       "      <th></th>\n",
       "      <th>Nome</th>\n",
       "      <th>Sexo</th>\n",
       "      <th>Febre</th>\n",
       "      <th>Dor</th>\n",
       "      <th>Procedimento</th>\n",
       "    </tr>\n",
       "  </thead>\n",
       "  <tbody>\n",
       "    <tr>\n",
       "      <td>0</td>\n",
       "      <td>Jose_Maria</td>\n",
       "      <td>Masculino</td>\n",
       "      <td>Forte</td>\n",
       "      <td>Sim</td>\n",
       "      <td>Realizado</td>\n",
       "    </tr>\n",
       "    <tr>\n",
       "      <td>1</td>\n",
       "      <td>Eduarda</td>\n",
       "      <td>Feminina</td>\n",
       "      <td>Fraca</td>\n",
       "      <td>Não</td>\n",
       "      <td>Nao realizado</td>\n",
       "    </tr>\n",
       "    <tr>\n",
       "      <td>2</td>\n",
       "      <td>Felipe</td>\n",
       "      <td>Não_definido</td>\n",
       "      <td>Sem_sintomas</td>\n",
       "      <td>Não</td>\n",
       "      <td>Indefinido</td>\n",
       "    </tr>\n",
       "    <tr>\n",
       "      <td>3</td>\n",
       "      <td>Tiao</td>\n",
       "      <td>Masculino</td>\n",
       "      <td>Sem_sintomas</td>\n",
       "      <td>Talvez</td>\n",
       "      <td>Realizado</td>\n",
       "    </tr>\n",
       "    <tr>\n",
       "      <td>4</td>\n",
       "      <td>Josefa</td>\n",
       "      <td>Feminina</td>\n",
       "      <td>Forte</td>\n",
       "      <td>Sim</td>\n",
       "      <td>Nao realizado</td>\n",
       "    </tr>\n",
       "  </tbody>\n",
       "</table>\n",
       "</div>"
      ],
      "text/plain": [
       "        Nome           Sexo         Febre     Dor   Procedimento\n",
       "0  Jose_Maria     Masculino         Forte     Sim      Realizado\n",
       "1     Eduarda     Feminina          Fraca     Não  Nao realizado\n",
       "2      Felipe  Não_definido  Sem_sintomas     Não     Indefinido\n",
       "3        Tiao     Masculino  Sem_sintomas  Talvez      Realizado\n",
       "4      Josefa     Feminina          Forte     Sim  Nao realizado"
      ]
     },
     "execution_count": 4,
     "metadata": {},
     "output_type": "execute_result"
    }
   ],
   "source": [
    "#df = df[['Sexo']]\n",
    "df"
   ]
  },
  {
   "cell_type": "code",
   "execution_count": 61,
   "metadata": {},
   "outputs": [],
   "source": [
    "# obtendo a bag-of-words\n",
    "def compute_bag_of_words(df):\n",
    "   \n",
    "   \n",
    "\n",
    "    d=[]\n",
    "    e=[]\n",
    "    for index,row in df.iterrows():\n",
    "        text = row['Febre'] #texto do evento\n",
    "        text2 = row['Sexo']\n",
    "        print(text)\n",
    "        d.append(text)\n",
    "        e.append(text2)\n",
    "       \n",
    "   \n",
    "  \n",
    "   \n",
    "  \n",
    "    #matrix = CountVectorizer(analyzer = 'word', ngram_range=(1,100),token_pattern=r'\\b\\w+\\b', min_df=1)\n",
    "    matrix = CountVectorizer(analyzer = 'word', ngram_range=(1,100),token_pattern=r'\\b\\w+\\b', min_df=1)\n",
    "    X = matrix.fit_transform(d)\n",
    "    Y = matrix.fit_transform(e)\n",
    "    \n",
    "\n",
    "    \n",
    "  \n",
    "    count_vect_df = pd.DataFrame(X.todense(), columns=matrix.get_feature_names())\n",
    "    count_vect_df_new = pd.DataFrame(Y.todense(), columns=matrix.get_feature_names())\n",
    "\n",
    "    return count_vect_df, count_vect_df_new\n",
    "\n",
    "    "
   ]
  },
  {
   "cell_type": "code",
   "execution_count": 62,
   "metadata": {},
   "outputs": [
    {
     "name": "stdout",
     "output_type": "stream",
     "text": [
      "Forte\n",
      "Fraca\n",
      "Sem_sintomas\n",
      "Sem_sintomas\n",
      "Forte\n"
     ]
    }
   ],
   "source": [
    "bow = compute_bag_of_words(df)"
   ]
  },
  {
   "cell_type": "code",
   "execution_count": 63,
   "metadata": {},
   "outputs": [
    {
     "name": "stdout",
     "output_type": "stream",
     "text": [
      "Forte\n",
      "Fraca\n",
      "Sem_sintomas\n",
      "Sem_sintomas\n",
      "Forte\n"
     ]
    }
   ],
   "source": [
    "bow, new = compute_bag_of_words(df)"
   ]
  },
  {
   "cell_type": "code",
   "execution_count": 64,
   "metadata": {},
   "outputs": [
    {
     "name": "stdout",
     "output_type": "stream",
     "text": [
      "Forte\n",
      "Fraca\n",
      "Sem_sintomas\n",
      "Sem_sintomas\n",
      "Forte\n"
     ]
    }
   ],
   "source": [
    "teste = compute_bag_of_words(df)"
   ]
  },
  {
   "cell_type": "code",
   "execution_count": 65,
   "metadata": {},
   "outputs": [
    {
     "data": {
      "text/plain": [
       "(   feminina  masculino  não_definido\n",
       " 0         1          0             0\n",
       " 1         0          1             0\n",
       " 2         0          0             1\n",
       " 3         0          0             1\n",
       " 4         1          0             0,    feminina  masculino  não_definido\n",
       " 0         0          1             0\n",
       " 1         1          0             0\n",
       " 2         0          0             1\n",
       " 3         0          1             0\n",
       " 4         1          0             0)"
      ]
     },
     "execution_count": 65,
     "metadata": {},
     "output_type": "execute_result"
    }
   ],
   "source": [
    "teste\n"
   ]
  },
  {
   "cell_type": "code",
   "execution_count": 66,
   "metadata": {},
   "outputs": [
    {
     "data": {
      "text/html": [
       "<div>\n",
       "<style scoped>\n",
       "    .dataframe tbody tr th:only-of-type {\n",
       "        vertical-align: middle;\n",
       "    }\n",
       "\n",
       "    .dataframe tbody tr th {\n",
       "        vertical-align: top;\n",
       "    }\n",
       "\n",
       "    .dataframe thead th {\n",
       "        text-align: right;\n",
       "    }\n",
       "</style>\n",
       "<table border=\"1\" class=\"dataframe\">\n",
       "  <thead>\n",
       "    <tr style=\"text-align: right;\">\n",
       "      <th></th>\n",
       "      <th>feminina</th>\n",
       "      <th>masculino</th>\n",
       "      <th>não_definido</th>\n",
       "    </tr>\n",
       "  </thead>\n",
       "  <tbody>\n",
       "    <tr>\n",
       "      <td>0</td>\n",
       "      <td>1</td>\n",
       "      <td>0</td>\n",
       "      <td>0</td>\n",
       "    </tr>\n",
       "    <tr>\n",
       "      <td>1</td>\n",
       "      <td>0</td>\n",
       "      <td>1</td>\n",
       "      <td>0</td>\n",
       "    </tr>\n",
       "    <tr>\n",
       "      <td>2</td>\n",
       "      <td>0</td>\n",
       "      <td>0</td>\n",
       "      <td>1</td>\n",
       "    </tr>\n",
       "    <tr>\n",
       "      <td>3</td>\n",
       "      <td>0</td>\n",
       "      <td>0</td>\n",
       "      <td>1</td>\n",
       "    </tr>\n",
       "    <tr>\n",
       "      <td>4</td>\n",
       "      <td>1</td>\n",
       "      <td>0</td>\n",
       "      <td>0</td>\n",
       "    </tr>\n",
       "  </tbody>\n",
       "</table>\n",
       "</div>"
      ],
      "text/plain": [
       "   feminina  masculino  não_definido\n",
       "0         1          0             0\n",
       "1         0          1             0\n",
       "2         0          0             1\n",
       "3         0          0             1\n",
       "4         1          0             0"
      ]
     },
     "execution_count": 66,
     "metadata": {},
     "output_type": "execute_result"
    }
   ],
   "source": [
    "bow"
   ]
  },
  {
   "cell_type": "code",
   "execution_count": null,
   "metadata": {},
   "outputs": [],
   "source": []
  },
  {
   "cell_type": "code",
   "execution_count": 68,
   "metadata": {},
   "outputs": [
    {
     "data": {
      "text/html": [
       "<div>\n",
       "<style scoped>\n",
       "    .dataframe tbody tr th:only-of-type {\n",
       "        vertical-align: middle;\n",
       "    }\n",
       "\n",
       "    .dataframe tbody tr th {\n",
       "        vertical-align: top;\n",
       "    }\n",
       "\n",
       "    .dataframe thead th {\n",
       "        text-align: right;\n",
       "    }\n",
       "</style>\n",
       "<table border=\"1\" class=\"dataframe\">\n",
       "  <thead>\n",
       "    <tr style=\"text-align: right;\">\n",
       "      <th></th>\n",
       "      <th>feminina</th>\n",
       "      <th>masculino</th>\n",
       "      <th>não_definido</th>\n",
       "    </tr>\n",
       "  </thead>\n",
       "  <tbody>\n",
       "    <tr>\n",
       "      <td>0</td>\n",
       "      <td>0</td>\n",
       "      <td>1</td>\n",
       "      <td>0</td>\n",
       "    </tr>\n",
       "    <tr>\n",
       "      <td>1</td>\n",
       "      <td>1</td>\n",
       "      <td>0</td>\n",
       "      <td>0</td>\n",
       "    </tr>\n",
       "    <tr>\n",
       "      <td>2</td>\n",
       "      <td>0</td>\n",
       "      <td>0</td>\n",
       "      <td>1</td>\n",
       "    </tr>\n",
       "    <tr>\n",
       "      <td>3</td>\n",
       "      <td>0</td>\n",
       "      <td>1</td>\n",
       "      <td>0</td>\n",
       "    </tr>\n",
       "    <tr>\n",
       "      <td>4</td>\n",
       "      <td>1</td>\n",
       "      <td>0</td>\n",
       "      <td>0</td>\n",
       "    </tr>\n",
       "  </tbody>\n",
       "</table>\n",
       "</div>"
      ],
      "text/plain": [
       "   feminina  masculino  não_definido\n",
       "0         0          1             0\n",
       "1         1          0             0\n",
       "2         0          0             1\n",
       "3         0          1             0\n",
       "4         1          0             0"
      ]
     },
     "execution_count": 68,
     "metadata": {},
     "output_type": "execute_result"
    }
   ],
   "source": [
    "new"
   ]
  },
  {
   "cell_type": "code",
   "execution_count": 70,
   "metadata": {},
   "outputs": [],
   "source": [
    "result = pd.merge(bow, new)"
   ]
  },
  {
   "cell_type": "raw",
   "metadata": {},
   "source": []
  }
 ],
 "metadata": {
  "kernelspec": {
   "display_name": "OMOP_ETL",
   "language": "python",
   "name": "omop_etl"
  },
  "language_info": {
   "codemirror_mode": {
    "name": "ipython",
    "version": 3
   },
   "file_extension": ".py",
   "mimetype": "text/x-python",
   "name": "python",
   "nbconvert_exporter": "python",
   "pygments_lexer": "ipython3",
   "version": "3.7.3"
  }
 },
 "nbformat": 4,
 "nbformat_minor": 2
}
